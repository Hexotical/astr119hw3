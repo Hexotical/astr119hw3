{
 "cells": [
  {
   "cell_type": "code",
   "execution_count": null,
   "metadata": {},
   "outputs": [],
   "source": [
    "%matplotlib inline\n",
    "import numpy as np\n",
    "import matplotlib.pyplot as plt"
   ]
  },
  {
   "cell_type": "code",
   "execution_count": null,
   "metadata": {},
   "outputs": [],
   "source": [
    "x = np.arange(0, 2*np.pi+.0001, .002*np.pi) #makes an array between 0 and 2pi, increments of 2pi/1000\n",
    "f1 = 5.5*np.cos(2*x)+5.5 #function 1 from the hw\n",
    "f2 = 0.02 *np.exp(x) #function 2 from the hw\n",
    "f3 = .25 * x**2 + .1*np.sin(10*x) #function 3 from the hw\n",
    "plt.plot(x, f1, label=\"Function 1\") #plots\n",
    "plt.plot(x, f2, label=\"Function 2\")\n",
    "plt.plot(x, f3, label=\"Function 3\")\n",
    "plt.xlabel(\"Time in Astr 119\") #labels\n",
    "plt.ylabel(\"Awsomeness\")\n",
    "plt.legend() #adds a legend\n"
   ]
  },
  {
   "cell_type": "code",
   "execution_count": null,
   "metadata": {},
   "outputs": [],
   "source": []
  },
  {
   "cell_type": "code",
   "execution_count": null,
   "metadata": {},
   "outputs": [],
   "source": []
  }
 ],
 "metadata": {
  "kernelspec": {
   "display_name": "Python 3",
   "language": "python",
   "name": "python3"
  },
  "language_info": {
   "codemirror_mode": {
    "name": "ipython",
    "version": 3
   },
   "file_extension": ".py",
   "mimetype": "text/x-python",
   "name": "python",
   "nbconvert_exporter": "python",
   "pygments_lexer": "ipython3",
   "version": "3.8.3-final"
  }
 },
 "nbformat": 4,
 "nbformat_minor": 4
}